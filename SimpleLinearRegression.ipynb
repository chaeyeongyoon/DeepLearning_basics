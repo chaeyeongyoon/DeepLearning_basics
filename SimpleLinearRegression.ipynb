{
 "cells": [
  {
   "cell_type": "code",
   "execution_count": 1,
   "metadata": {},
   "outputs": [
    {
     "name": "stderr",
     "output_type": "stream",
     "text": [
      "C:\\Users\\ui88g\\anaconda3\\envs\\tf113\\lib\\site-packages\\tensorflow\\python\\framework\\dtypes.py:526: FutureWarning: Passing (type, 1) or '1type' as a synonym of type is deprecated; in a future version of numpy, it will be understood as (type, (1,)) / '(1,)type'.\n",
      "  _np_qint8 = np.dtype([(\"qint8\", np.int8, 1)])\n",
      "C:\\Users\\ui88g\\anaconda3\\envs\\tf113\\lib\\site-packages\\tensorflow\\python\\framework\\dtypes.py:527: FutureWarning: Passing (type, 1) or '1type' as a synonym of type is deprecated; in a future version of numpy, it will be understood as (type, (1,)) / '(1,)type'.\n",
      "  _np_quint8 = np.dtype([(\"quint8\", np.uint8, 1)])\n",
      "C:\\Users\\ui88g\\anaconda3\\envs\\tf113\\lib\\site-packages\\tensorflow\\python\\framework\\dtypes.py:528: FutureWarning: Passing (type, 1) or '1type' as a synonym of type is deprecated; in a future version of numpy, it will be understood as (type, (1,)) / '(1,)type'.\n",
      "  _np_qint16 = np.dtype([(\"qint16\", np.int16, 1)])\n",
      "C:\\Users\\ui88g\\anaconda3\\envs\\tf113\\lib\\site-packages\\tensorflow\\python\\framework\\dtypes.py:529: FutureWarning: Passing (type, 1) or '1type' as a synonym of type is deprecated; in a future version of numpy, it will be understood as (type, (1,)) / '(1,)type'.\n",
      "  _np_quint16 = np.dtype([(\"quint16\", np.uint16, 1)])\n",
      "C:\\Users\\ui88g\\anaconda3\\envs\\tf113\\lib\\site-packages\\tensorflow\\python\\framework\\dtypes.py:530: FutureWarning: Passing (type, 1) or '1type' as a synonym of type is deprecated; in a future version of numpy, it will be understood as (type, (1,)) / '(1,)type'.\n",
      "  _np_qint32 = np.dtype([(\"qint32\", np.int32, 1)])\n",
      "C:\\Users\\ui88g\\anaconda3\\envs\\tf113\\lib\\site-packages\\tensorflow\\python\\framework\\dtypes.py:535: FutureWarning: Passing (type, 1) or '1type' as a synonym of type is deprecated; in a future version of numpy, it will be understood as (type, (1,)) / '(1,)type'.\n",
      "  np_resource = np.dtype([(\"resource\", np.ubyte, 1)])\n"
     ]
    }
   ],
   "source": [
    "import tensorflow as tf\n",
    "tf.set_random_seed(777) # for reproducibility"
   ]
  },
  {
   "cell_type": "code",
   "execution_count": 2,
   "metadata": {},
   "outputs": [],
   "source": [
    "x_train = [1, 2, 3]\n",
    "y_train = [1, 2, 3]"
   ]
  },
  {
   "cell_type": "code",
   "execution_count": 3,
   "metadata": {},
   "outputs": [
    {
     "name": "stdout",
     "output_type": "stream",
     "text": [
      "WARNING:tensorflow:From C:\\Users\\ui88g\\anaconda3\\envs\\tf113\\lib\\site-packages\\tensorflow\\python\\framework\\op_def_library.py:263: colocate_with (from tensorflow.python.framework.ops) is deprecated and will be removed in a future version.\n",
      "Instructions for updating:\n",
      "Colocations handled automatically by placer.\n"
     ]
    }
   ],
   "source": [
    "W = tf.Variable(tf.random_normal([1]), name='weight')\n",
    "b = tf.Variable(tf.random_normal([1]), name='bias')"
   ]
  },
  {
   "cell_type": "code",
   "execution_count": 4,
   "metadata": {},
   "outputs": [],
   "source": [
    "hypothesis = x_train * W + b"
   ]
  },
  {
   "cell_type": "code",
   "execution_count": 5,
   "metadata": {},
   "outputs": [],
   "source": [
    "cost = tf.reduce_mean(tf.square(hypothesis-y_train))"
   ]
  },
  {
   "cell_type": "code",
   "execution_count": 6,
   "metadata": {},
   "outputs": [],
   "source": [
    "#optimizer\n",
    "train = tf.train.GradientDescentOptimizer(learning_rate=0.01).minimize(cost)"
   ]
  },
  {
   "cell_type": "code",
   "execution_count": 7,
   "metadata": {},
   "outputs": [
    {
     "name": "stdout",
     "output_type": "stream",
     "text": [
      "0 3.5240757 [2.1286771] [-0.8523567]\n",
      "20 0.19749945 [1.533928] [-1.0505961]\n",
      "40 0.15214379 [1.4572546] [-1.0239124]\n",
      "60 0.1379325 [1.4308538] [-0.9779527]\n",
      "80 0.12527025 [1.4101374] [-0.93219817]\n",
      "100 0.11377233 [1.3908179] [-0.8884077]\n",
      "120 0.10332986 [1.3724468] [-0.8466577]\n",
      "140 0.093845844 [1.3549428] [-0.80686814]\n",
      "160 0.08523229 [1.3382617] [-0.7689483]\n",
      "180 0.07740932 [1.3223647] [-0.73281056]\n",
      "200 0.07030439 [1.3072149] [-0.6983712]\n",
      "220 0.06385162 [1.2927768] [-0.6655505]\n",
      "240 0.05799109 [1.2790174] [-0.63427216]\n",
      "260 0.05266844 [1.2659047] [-0.6044637]\n",
      "280 0.047834318 [1.2534081] [-0.57605624]\n",
      "300 0.043443877 [1.2414987] [-0.5489836]\n",
      "320 0.0394564 [1.2301493] [-0.5231833]\n",
      "340 0.035834935 [1.2193329] [-0.49859545]\n",
      "360 0.032545824 [1.2090251] [-0.47516325]\n",
      "380 0.029558638 [1.1992016] [-0.45283225]\n",
      "400 0.026845641 [1.18984] [-0.4315508]\n",
      "420 0.024381675 [1.1809182] [-0.41126958]\n",
      "440 0.02214382 [1.1724157] [-0.39194146]\n",
      "460 0.020111356 [1.1643128] [-0.37352163]\n",
      "480 0.018265454 [1.1565907] [-0.35596743]\n",
      "500 0.016588978 [1.1492316] [-0.33923826]\n",
      "520 0.015066384 [1.1422179] [-0.3232953]\n",
      "540 0.01368351 [1.1355343] [-0.30810148]\n",
      "560 0.012427575 [1.1291647] [-0.29362184]\n",
      "580 0.011286932 [1.1230947] [-0.2798227]\n",
      "600 0.010250964 [1.1173096] [-0.26667204]\n",
      "620 0.009310094 [1.1117964] [-0.25413945]\n",
      "640 0.008455581 [1.1065423] [-0.24219586]\n",
      "660 0.0076795053 [1.1015354] [-0.23081362]\n",
      "680 0.006974643 [1.0967635] [-0.21996623]\n",
      "700 0.0063344706 [1.0922159] [-0.20962858]\n",
      "720 0.0057530706 [1.0878822] [-0.19977672]\n",
      "740 0.0052250377 [1.0837522] [-0.19038804]\n",
      "760 0.004745458 [1.0798159] [-0.18144041]\n",
      "780 0.004309906 [1.076065] [-0.17291337]\n",
      "800 0.003914324 [1.0724902] [-0.16478711]\n",
      "820 0.0035550483 [1.0690835] [-0.1570428]\n",
      "840 0.0032287557 [1.0658368] [-0.14966238]\n",
      "860 0.0029324207 [1.0627428] [-0.14262886]\n",
      "880 0.0026632652 [1.059794] [-0.13592596]\n",
      "900 0.0024188235 [1.056984] [-0.12953788]\n",
      "920 0.0021968128 [1.0543059] [-0.12345006]\n",
      "940 0.001995178 [1.0517538] [-0.11764836]\n",
      "960 0.0018120449 [1.0493214] [-0.11211928]\n",
      "980 0.0016457299 [1.0470035] [-0.10685005]\n",
      "1000 0.0014946823 [1.0447946] [-0.10182849]\n",
      "1020 0.0013574976 [1.0426894] [-0.09704296]\n",
      "1040 0.001232898 [1.0406833] [-0.09248237]\n",
      "1060 0.0011197334 [1.038771] [-0.08813594]\n",
      "1080 0.0010169626 [1.0369489] [-0.08399385]\n",
      "1100 0.0009236224 [1.0352125] [-0.08004645]\n",
      "1120 0.0008388485 [1.0335577] [-0.07628451]\n",
      "1140 0.0007618535 [1.0319806] [-0.07269943]\n",
      "1160 0.0006919258 [1.0304775] [-0.06928282]\n",
      "1180 0.00062842044 [1.0290452] [-0.06602671]\n",
      "1200 0.0005707396 [1.0276802] [-0.06292368]\n",
      "1220 0.00051835255 [1.0263793] [-0.05996648]\n",
      "1240 0.00047077626 [1.0251396] [-0.05714824]\n",
      "1260 0.00042756708 [1.0239582] [-0.0544625]\n",
      "1280 0.00038832307 [1.0228322] [-0.05190301]\n",
      "1300 0.00035268333 [1.0217593] [-0.04946378]\n",
      "1320 0.0003203152 [1.0207369] [-0.04713925]\n",
      "1340 0.0002909189 [1.0197623] [-0.0449241]\n",
      "1360 0.00026421514 [1.0188333] [-0.04281275]\n",
      "1380 0.0002399599 [1.0179482] [-0.04080062]\n",
      "1400 0.00021793543 [1.0171047] [-0.03888312]\n",
      "1420 0.00019793434 [1.0163009] [-0.03705578]\n",
      "1440 0.00017976768 [1.0155348] [-0.03531429]\n",
      "1460 0.00016326748 [1.0148047] [-0.03365463]\n",
      "1480 0.00014828023 [1.0141089] [-0.03207294]\n",
      "1500 0.00013467176 [1.0134459] [-0.03056567]\n",
      "1520 0.00012231102 [1.0128139] [-0.02912918]\n",
      "1540 0.0001110848 [1.0122118] [-0.0277602]\n",
      "1560 0.000100889745 [1.0116379] [-0.02645557]\n",
      "1580 9.162913e-05 [1.011091] [-0.02521228]\n",
      "1600 8.322027e-05 [1.0105698] [-0.02402747]\n",
      "1620 7.5580865e-05 [1.0100728] [-0.02289824]\n",
      "1640 6.8643785e-05 [1.0095996] [-0.02182201]\n",
      "1660 6.234206e-05 [1.0091484] [-0.02079643]\n",
      "1680 5.662038e-05 [1.0087185] [-0.01981908]\n",
      "1700 5.142322e-05 [1.0083088] [-0.01888768]\n",
      "1720 4.6704197e-05 [1.0079182] [-0.01800001]\n",
      "1740 4.2417145e-05 [1.0075461] [-0.01715406]\n",
      "1760 3.852436e-05 [1.0071915] [-0.01634789]\n",
      "1780 3.4988276e-05 [1.0068535] [-0.01557961]\n",
      "1800 3.1776715e-05 [1.0065314] [-0.01484741]\n",
      "1820 2.8859866e-05 [1.0062244] [-0.0141496]\n",
      "1840 2.621177e-05 [1.005932] [-0.01348464]\n",
      "1860 2.380544e-05 [1.0056531] [-0.01285094]\n",
      "1880 2.1620841e-05 [1.0053875] [-0.012247]\n",
      "1900 1.9636196e-05 [1.0051342] [-0.01167146]\n",
      "1920 1.7834054e-05 [1.004893] [-0.01112291]\n",
      "1940 1.6197106e-05 [1.0046631] [-0.01060018]\n",
      "1960 1.4711059e-05 [1.004444] [-0.01010205]\n",
      "1980 1.3360998e-05 [1.0042351] [-0.00962736]\n",
      "2000 1.21343355e-05 [1.0040361] [-0.00917497]\n"
     ]
    }
   ],
   "source": [
    "# Launch the graph in a session\n",
    "with tf.Session() as sess:\n",
    "    # Initializes global variables in the graph\n",
    "    sess.run(tf.global_variables_initializer())\n",
    "    \n",
    "    # Fit the line\n",
    "    for step in range(2001):\n",
    "        _, cost_val, W_val, b_val = sess.run([train, cost, W, b])\n",
    "        \n",
    "        if step % 20 == 0:\n",
    "            print(step, cost_val, W_val, b_val)"
   ]
  },
  {
   "cell_type": "code",
   "execution_count": 8,
   "metadata": {},
   "outputs": [
    {
     "name": "stdout",
     "output_type": "stream",
     "text": [
      "[5.0110054]\n"
     ]
    }
   ],
   "source": [
    "W = W_val; b = b_val;\n",
    "print(W * 5 + b)"
   ]
  },
  {
   "cell_type": "markdown",
   "metadata": {},
   "source": [
    "#### Placeholder 사용"
   ]
  },
  {
   "cell_type": "code",
   "execution_count": 4,
   "metadata": {},
   "outputs": [
    {
     "name": "stdout",
     "output_type": "stream",
     "text": [
      "0 0.019618997 [1.1572248] [-0.36933059]\n",
      "100 0.012023439 [1.1270472] [-0.28880805]\n",
      "200 0.0074297446 [1.0998706] [-0.22702935]\n",
      "300 0.0045911334 [1.0785074] [-0.17846586]\n",
      "400 0.0028370463 [1.061714] [-0.14029051]\n",
      "500 0.0017531216 [1.0485128] [-0.11028107]\n",
      "600 0.0010833172 [1.0381353] [-0.08669068]\n",
      "700 0.00066942535 [1.029978] [-0.06814682]\n",
      "800 0.0004136667 [1.0235655] [-0.05356978]\n",
      "900 0.0002556209 [1.0185246] [-0.0421108]\n",
      "1000 0.00015795916 [1.014562] [-0.03310289]\n",
      "1100 9.760869e-05 [1.0114471] [-0.02602182]\n",
      "1200 6.031638e-05 [1.0089984] [-0.02045551]\n",
      "1300 3.7271584e-05 [1.0070736] [-0.0160799]\n",
      "1400 2.3031229e-05 [1.0055605] [-0.0126402]\n",
      "1500 1.4231408e-05 [1.004371] [-0.00993638]\n",
      "1600 8.794893e-06 [1.0034361] [-0.00781103]\n",
      "1700 5.4348216e-06 [1.0027012] [-0.00614035]\n",
      "1800 3.3586664e-06 [1.0021235] [-0.00482703]\n",
      "1900 2.0757877e-06 [1.0016694] [-0.00379477]\n",
      "2000 1.2830284e-06 [1.0013124] [-0.00298346]\n"
     ]
    }
   ],
   "source": [
    "import tensorflow as tf\n",
    "\n",
    "W = tf.Variable(tf.random_normal([1]), name='weight')\n",
    "b = tf.Variable(tf.random_normal([1]), name='bias')\n",
    "\n",
    "# data를 placeholder로\n",
    "X = tf.placeholder(tf.float32, shape=[None])\n",
    "Y = tf.placeholder(tf.float32, shape=[None])\n",
    "\n",
    "Hypothesis = X * W + b\n",
    "\n",
    "cost = tf.reduce_mean(tf.square(Hypothesis - Y))\n",
    "\n",
    "# optimizer\n",
    "optimizer = tf.train.GradientDescentOptimizer(learning_rate=0.01)\n",
    "train = optimizer.minimize(cost)\n",
    "\n",
    "with tf.Session() as sess:\n",
    "    sess.run(tf.global_variables_initializer())\n",
    "    \n",
    "    for step in range(2001):\n",
    "        _, cost_val, W_val, b_val = sess.run(\n",
    "            [train, cost, W, b], feed_dict = {X:[1, 2, 3], Y: [1, 2, 3]}\n",
    "        )\n",
    "        if step % 100 == 0:\n",
    "            print(step, cost_val, W_val, b_val)"
   ]
  },
  {
   "cell_type": "code",
   "execution_count": null,
   "metadata": {},
   "outputs": [],
   "source": []
  }
 ],
 "metadata": {
  "kernelspec": {
   "display_name": "Python [conda env:tf113] *",
   "language": "python",
   "name": "conda-env-tf113-py"
  },
  "language_info": {
   "codemirror_mode": {
    "name": "ipython",
    "version": 3
   },
   "file_extension": ".py",
   "mimetype": "text/x-python",
   "name": "python",
   "nbconvert_exporter": "python",
   "pygments_lexer": "ipython3",
   "version": "3.6.12"
  }
 },
 "nbformat": 4,
 "nbformat_minor": 4
}
